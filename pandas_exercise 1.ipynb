{
 "cells": [
  {
   "cell_type": "markdown",
   "id": "76e83f14-9b25-420a-8102-b196725092eb",
   "metadata": {},
   "source": [
    "## Create a dataframe as followa using pandas"
   ]
  },
  {
   "cell_type": "raw",
   "id": "c5484add-6940-4093-8aa7-4011327c3ca2",
   "metadata": {},
   "source": [
    "                                               Chemistry   Physics   Mathematics   English\n",
    "                                    Subodh        67          45         50          19\n",
    "                                    Ram           90          92         87          90\n",
    "                                    Abdul         66          72         81          72\n",
    "                                    John          32          40         12          68"
   ]
  },
  {
   "cell_type": "code",
   "execution_count": 9,
   "id": "361e2491-088e-4471-84ba-95de904093a5",
   "metadata": {},
   "outputs": [
    {
     "data": {
      "text/html": [
       "<div>\n",
       "<style scoped>\n",
       "    .dataframe tbody tr th:only-of-type {\n",
       "        vertical-align: middle;\n",
       "    }\n",
       "\n",
       "    .dataframe tbody tr th {\n",
       "        vertical-align: top;\n",
       "    }\n",
       "\n",
       "    .dataframe thead th {\n",
       "        text-align: right;\n",
       "    }\n",
       "</style>\n",
       "<table border=\"1\" class=\"dataframe\">\n",
       "  <thead>\n",
       "    <tr style=\"text-align: right;\">\n",
       "      <th></th>\n",
       "      <th>Chemistry</th>\n",
       "      <th>Physics</th>\n",
       "      <th>Mathematics</th>\n",
       "      <th>English</th>\n",
       "    </tr>\n",
       "  </thead>\n",
       "  <tbody>\n",
       "    <tr>\n",
       "      <th>Subodh</th>\n",
       "      <td>67</td>\n",
       "      <td>45</td>\n",
       "      <td>50</td>\n",
       "      <td>19</td>\n",
       "    </tr>\n",
       "    <tr>\n",
       "      <th>Ram</th>\n",
       "      <td>90</td>\n",
       "      <td>92</td>\n",
       "      <td>87</td>\n",
       "      <td>90</td>\n",
       "    </tr>\n",
       "    <tr>\n",
       "      <th>Abdul</th>\n",
       "      <td>66</td>\n",
       "      <td>72</td>\n",
       "      <td>81</td>\n",
       "      <td>72</td>\n",
       "    </tr>\n",
       "    <tr>\n",
       "      <th>John</th>\n",
       "      <td>32</td>\n",
       "      <td>40</td>\n",
       "      <td>12</td>\n",
       "      <td>68</td>\n",
       "    </tr>\n",
       "  </tbody>\n",
       "</table>\n",
       "</div>"
      ],
      "text/plain": [
       "        Chemistry  Physics  Mathematics  English\n",
       "Subodh         67       45           50       19\n",
       "Ram            90       92           87       90\n",
       "Abdul          66       72           81       72\n",
       "John           32       40           12       68"
      ]
     },
     "execution_count": 9,
     "metadata": {},
     "output_type": "execute_result"
    }
   ],
   "source": [
    "import pandas as pd\n",
    "import numpy as np\n",
    "marks = {'Chemistry': [67,90,66,32], \n",
    " 'Physics': [45,92,72,40], \n",
    " 'Mathematics': [50,87,81,12], \n",
    " 'English': [19,90,72,68]}\n",
    "marks_df = pd.DataFrame(marks, index = ['Subodh', 'Ram', 'Abdul', 'John'])\n",
    "marks_df"
   ]
  },
  {
   "cell_type": "markdown",
   "id": "6173f6ae-a257-4707-80ef-691861ea0a5b",
   "metadata": {},
   "source": [
    "## The teacher wants to create a new column called total and the value of each row in total column should be the sum of all marks of ech student"
   ]
  },
  {
   "cell_type": "code",
   "execution_count": 10,
   "id": "eef46d25-fe2f-429e-a79f-42ee18731e1f",
   "metadata": {},
   "outputs": [
    {
     "data": {
      "text/html": [
       "<div>\n",
       "<style scoped>\n",
       "    .dataframe tbody tr th:only-of-type {\n",
       "        vertical-align: middle;\n",
       "    }\n",
       "\n",
       "    .dataframe tbody tr th {\n",
       "        vertical-align: top;\n",
       "    }\n",
       "\n",
       "    .dataframe thead th {\n",
       "        text-align: right;\n",
       "    }\n",
       "</style>\n",
       "<table border=\"1\" class=\"dataframe\">\n",
       "  <thead>\n",
       "    <tr style=\"text-align: right;\">\n",
       "      <th></th>\n",
       "      <th>Chemistry</th>\n",
       "      <th>Physics</th>\n",
       "      <th>Mathematics</th>\n",
       "      <th>English</th>\n",
       "      <th>Total</th>\n",
       "    </tr>\n",
       "  </thead>\n",
       "  <tbody>\n",
       "    <tr>\n",
       "      <th>Subodh</th>\n",
       "      <td>67</td>\n",
       "      <td>45</td>\n",
       "      <td>50</td>\n",
       "      <td>19</td>\n",
       "      <td>181</td>\n",
       "    </tr>\n",
       "    <tr>\n",
       "      <th>Ram</th>\n",
       "      <td>90</td>\n",
       "      <td>92</td>\n",
       "      <td>87</td>\n",
       "      <td>90</td>\n",
       "      <td>359</td>\n",
       "    </tr>\n",
       "    <tr>\n",
       "      <th>Abdul</th>\n",
       "      <td>66</td>\n",
       "      <td>72</td>\n",
       "      <td>81</td>\n",
       "      <td>72</td>\n",
       "      <td>291</td>\n",
       "    </tr>\n",
       "    <tr>\n",
       "      <th>John</th>\n",
       "      <td>32</td>\n",
       "      <td>40</td>\n",
       "      <td>12</td>\n",
       "      <td>68</td>\n",
       "      <td>152</td>\n",
       "    </tr>\n",
       "  </tbody>\n",
       "</table>\n",
       "</div>"
      ],
      "text/plain": [
       "        Chemistry  Physics  Mathematics  English  Total\n",
       "Subodh         67       45           50       19    181\n",
       "Ram            90       92           87       90    359\n",
       "Abdul          66       72           81       72    291\n",
       "John           32       40           12       68    152"
      ]
     },
     "execution_count": 10,
     "metadata": {},
     "output_type": "execute_result"
    }
   ],
   "source": [
    "marks_df['Total'] = marks_df['Chemistry'] + marks_df['Physics'] + marks_df['Mathematics'] + marks_df['English']\n",
    "marks_df"
   ]
  },
  {
   "cell_type": "markdown",
   "id": "a8fb8dda-78d6-4e9a-a702-32a3a4e95744",
   "metadata": {},
   "source": [
    "## Drop the total column "
   ]
  },
  {
   "cell_type": "code",
   "execution_count": 11,
   "id": "1334d5b5-acd1-4f82-aa85-cb58ede6cab9",
   "metadata": {},
   "outputs": [
    {
     "data": {
      "text/html": [
       "<div>\n",
       "<style scoped>\n",
       "    .dataframe tbody tr th:only-of-type {\n",
       "        vertical-align: middle;\n",
       "    }\n",
       "\n",
       "    .dataframe tbody tr th {\n",
       "        vertical-align: top;\n",
       "    }\n",
       "\n",
       "    .dataframe thead th {\n",
       "        text-align: right;\n",
       "    }\n",
       "</style>\n",
       "<table border=\"1\" class=\"dataframe\">\n",
       "  <thead>\n",
       "    <tr style=\"text-align: right;\">\n",
       "      <th></th>\n",
       "      <th>Chemistry</th>\n",
       "      <th>Physics</th>\n",
       "      <th>Mathematics</th>\n",
       "      <th>English</th>\n",
       "    </tr>\n",
       "  </thead>\n",
       "  <tbody>\n",
       "    <tr>\n",
       "      <th>Subodh</th>\n",
       "      <td>67</td>\n",
       "      <td>45</td>\n",
       "      <td>50</td>\n",
       "      <td>19</td>\n",
       "    </tr>\n",
       "    <tr>\n",
       "      <th>Ram</th>\n",
       "      <td>90</td>\n",
       "      <td>92</td>\n",
       "      <td>87</td>\n",
       "      <td>90</td>\n",
       "    </tr>\n",
       "    <tr>\n",
       "      <th>Abdul</th>\n",
       "      <td>66</td>\n",
       "      <td>72</td>\n",
       "      <td>81</td>\n",
       "      <td>72</td>\n",
       "    </tr>\n",
       "    <tr>\n",
       "      <th>John</th>\n",
       "      <td>32</td>\n",
       "      <td>40</td>\n",
       "      <td>12</td>\n",
       "      <td>68</td>\n",
       "    </tr>\n",
       "  </tbody>\n",
       "</table>\n",
       "</div>"
      ],
      "text/plain": [
       "        Chemistry  Physics  Mathematics  English\n",
       "Subodh         67       45           50       19\n",
       "Ram            90       92           87       90\n",
       "Abdul          66       72           81       72\n",
       "John           32       40           12       68"
      ]
     },
     "execution_count": 11,
     "metadata": {},
     "output_type": "execute_result"
    }
   ],
   "source": [
    "marks_df.drop(columns = 'Total' , inplace = True)\n",
    "marks_df"
   ]
  },
  {
   "cell_type": "markdown",
   "id": "adf804b6-68b1-4254-b306-6ab49d02320d",
   "metadata": {},
   "source": [
    "## The teacher wants to award five bonus marks to all the students."
   ]
  },
  {
   "cell_type": "code",
   "execution_count": 12,
   "id": "161afd6a-c1e0-44bf-89b6-b1bcde0c30f3",
   "metadata": {},
   "outputs": [
    {
     "data": {
      "text/html": [
       "<div>\n",
       "<style scoped>\n",
       "    .dataframe tbody tr th:only-of-type {\n",
       "        vertical-align: middle;\n",
       "    }\n",
       "\n",
       "    .dataframe tbody tr th {\n",
       "        vertical-align: top;\n",
       "    }\n",
       "\n",
       "    .dataframe thead th {\n",
       "        text-align: right;\n",
       "    }\n",
       "</style>\n",
       "<table border=\"1\" class=\"dataframe\">\n",
       "  <thead>\n",
       "    <tr style=\"text-align: right;\">\n",
       "      <th></th>\n",
       "      <th>Chemistry</th>\n",
       "      <th>Physics</th>\n",
       "      <th>Mathematics</th>\n",
       "      <th>English</th>\n",
       "    </tr>\n",
       "  </thead>\n",
       "  <tbody>\n",
       "    <tr>\n",
       "      <th>Subodh</th>\n",
       "      <td>72</td>\n",
       "      <td>50</td>\n",
       "      <td>55</td>\n",
       "      <td>24</td>\n",
       "    </tr>\n",
       "    <tr>\n",
       "      <th>Ram</th>\n",
       "      <td>95</td>\n",
       "      <td>97</td>\n",
       "      <td>92</td>\n",
       "      <td>95</td>\n",
       "    </tr>\n",
       "    <tr>\n",
       "      <th>Abdul</th>\n",
       "      <td>71</td>\n",
       "      <td>77</td>\n",
       "      <td>86</td>\n",
       "      <td>77</td>\n",
       "    </tr>\n",
       "    <tr>\n",
       "      <th>John</th>\n",
       "      <td>37</td>\n",
       "      <td>45</td>\n",
       "      <td>17</td>\n",
       "      <td>73</td>\n",
       "    </tr>\n",
       "  </tbody>\n",
       "</table>\n",
       "</div>"
      ],
      "text/plain": [
       "        Chemistry  Physics  Mathematics  English\n",
       "Subodh         72       50           55       24\n",
       "Ram            95       97           92       95\n",
       "Abdul          71       77           86       77\n",
       "John           37       45           17       73"
      ]
     },
     "execution_count": 12,
     "metadata": {},
     "output_type": "execute_result"
    }
   ],
   "source": [
    "new_marks = marks_df + 5\n",
    "new_marks"
   ]
  },
  {
   "cell_type": "markdown",
   "id": "452f2403-a31f-4555-a5a8-008e0a47bb56",
   "metadata": {},
   "source": [
    "## The teacher want increase the marks of all the students as follows-\n",
    "\n",
    "- Chemistry: + 5 \n",
    "- Physics: + 10\n",
    "- Mathematics: + 10\n",
    "- English: + 2"
   ]
  },
  {
   "cell_type": "code",
   "execution_count": 13,
   "id": "e8df6acb-1fe7-466b-89e1-50ea10f68937",
   "metadata": {},
   "outputs": [
    {
     "data": {
      "text/html": [
       "<div>\n",
       "<style scoped>\n",
       "    .dataframe tbody tr th:only-of-type {\n",
       "        vertical-align: middle;\n",
       "    }\n",
       "\n",
       "    .dataframe tbody tr th {\n",
       "        vertical-align: top;\n",
       "    }\n",
       "\n",
       "    .dataframe thead th {\n",
       "        text-align: right;\n",
       "    }\n",
       "</style>\n",
       "<table border=\"1\" class=\"dataframe\">\n",
       "  <thead>\n",
       "    <tr style=\"text-align: right;\">\n",
       "      <th></th>\n",
       "      <th>Chemistry</th>\n",
       "      <th>Physics</th>\n",
       "      <th>Mathematics</th>\n",
       "      <th>English</th>\n",
       "    </tr>\n",
       "  </thead>\n",
       "  <tbody>\n",
       "    <tr>\n",
       "      <th>Subodh</th>\n",
       "      <td>72</td>\n",
       "      <td>55</td>\n",
       "      <td>60</td>\n",
       "      <td>21</td>\n",
       "    </tr>\n",
       "    <tr>\n",
       "      <th>Ram</th>\n",
       "      <td>95</td>\n",
       "      <td>102</td>\n",
       "      <td>97</td>\n",
       "      <td>92</td>\n",
       "    </tr>\n",
       "    <tr>\n",
       "      <th>Abdul</th>\n",
       "      <td>71</td>\n",
       "      <td>82</td>\n",
       "      <td>91</td>\n",
       "      <td>74</td>\n",
       "    </tr>\n",
       "    <tr>\n",
       "      <th>John</th>\n",
       "      <td>37</td>\n",
       "      <td>50</td>\n",
       "      <td>22</td>\n",
       "      <td>70</td>\n",
       "    </tr>\n",
       "  </tbody>\n",
       "</table>\n",
       "</div>"
      ],
      "text/plain": [
       "        Chemistry  Physics  Mathematics  English\n",
       "Subodh         72       55           60       21\n",
       "Ram            95      102           97       92\n",
       "Abdul          71       82           91       74\n",
       "John           37       50           22       70"
      ]
     },
     "execution_count": 13,
     "metadata": {},
     "output_type": "execute_result"
    }
   ],
   "source": [
    "new_marks = marks_df + [5,10,10,2]\n",
    "new_marks"
   ]
  },
  {
   "cell_type": "markdown",
   "id": "81740e70-6063-4cc6-bb84-7da5ed061787",
   "metadata": {},
   "source": [
    "## The teacher wants to get the total marks scored in each subject"
   ]
  },
  {
   "cell_type": "code",
   "execution_count": 14,
   "id": "e8caabe0-14e8-43b4-83a7-c7e5d830467e",
   "metadata": {},
   "outputs": [
    {
     "data": {
      "text/plain": [
       "Chemistry      255\n",
       "Physics        249\n",
       "Mathematics    230\n",
       "English        249\n",
       "dtype: int64"
      ]
     },
     "execution_count": 14,
     "metadata": {},
     "output_type": "execute_result"
    }
   ],
   "source": [
    "marks_df.apply(np.sum, axis = 0)"
   ]
  },
  {
   "cell_type": "markdown",
   "id": "388d3365-487b-4e28-ab2f-07f12a858504",
   "metadata": {},
   "source": [
    "## The teacher wants to get the total marks scored by each student."
   ]
  },
  {
   "cell_type": "code",
   "execution_count": 15,
   "id": "de39e422-fb9e-4c52-b4c6-e5c15044cbc0",
   "metadata": {},
   "outputs": [
    {
     "data": {
      "text/plain": [
       "Subodh    181\n",
       "Ram       359\n",
       "Abdul     291\n",
       "John      152\n",
       "dtype: int64"
      ]
     },
     "execution_count": 15,
     "metadata": {},
     "output_type": "execute_result"
    }
   ],
   "source": [
    "marks_df.apply(np.sum, axis = 1)"
   ]
  },
  {
   "cell_type": "markdown",
   "id": "6cbd56ff-a07a-4f0c-b172-892b334c0f15",
   "metadata": {},
   "source": [
    "## The teacher wants to hide the marks of the students who scored less than 35 marks and display Fail in place of those marks."
   ]
  },
  {
   "cell_type": "code",
   "execution_count": 16,
   "id": "1cddbdd7-44d1-4946-bbdc-5b0dcf5c3a99",
   "metadata": {},
   "outputs": [
    {
     "data": {
      "text/html": [
       "<div>\n",
       "<style scoped>\n",
       "    .dataframe tbody tr th:only-of-type {\n",
       "        vertical-align: middle;\n",
       "    }\n",
       "\n",
       "    .dataframe tbody tr th {\n",
       "        vertical-align: top;\n",
       "    }\n",
       "\n",
       "    .dataframe thead th {\n",
       "        text-align: right;\n",
       "    }\n",
       "</style>\n",
       "<table border=\"1\" class=\"dataframe\">\n",
       "  <thead>\n",
       "    <tr style=\"text-align: right;\">\n",
       "      <th></th>\n",
       "      <th>Chemistry</th>\n",
       "      <th>Physics</th>\n",
       "      <th>Mathematics</th>\n",
       "      <th>English</th>\n",
       "    </tr>\n",
       "  </thead>\n",
       "  <tbody>\n",
       "    <tr>\n",
       "      <th>Subodh</th>\n",
       "      <td>67</td>\n",
       "      <td>45</td>\n",
       "      <td>50</td>\n",
       "      <td>Fail</td>\n",
       "    </tr>\n",
       "    <tr>\n",
       "      <th>Ram</th>\n",
       "      <td>90</td>\n",
       "      <td>92</td>\n",
       "      <td>87</td>\n",
       "      <td>90</td>\n",
       "    </tr>\n",
       "    <tr>\n",
       "      <th>Abdul</th>\n",
       "      <td>66</td>\n",
       "      <td>72</td>\n",
       "      <td>81</td>\n",
       "      <td>72</td>\n",
       "    </tr>\n",
       "    <tr>\n",
       "      <th>John</th>\n",
       "      <td>Fail</td>\n",
       "      <td>40</td>\n",
       "      <td>Fail</td>\n",
       "      <td>68</td>\n",
       "    </tr>\n",
       "  </tbody>\n",
       "</table>\n",
       "</div>"
      ],
      "text/plain": [
       "       Chemistry  Physics Mathematics English\n",
       "Subodh        67       45          50    Fail\n",
       "Ram           90       92          87      90\n",
       "Abdul         66       72          81      72\n",
       "John        Fail       40        Fail      68"
      ]
     },
     "execution_count": 16,
     "metadata": {},
     "output_type": "execute_result"
    }
   ],
   "source": [
    "f = marks_df < 35\n",
    "marks_df.mask(f,'Fail')"
   ]
  },
  {
   "cell_type": "code",
   "execution_count": null,
   "id": "92747a19-0810-4267-9e43-55f36d93e47e",
   "metadata": {},
   "outputs": [],
   "source": []
  },
  {
   "cell_type": "code",
   "execution_count": null,
   "id": "d7180ec6",
   "metadata": {},
   "outputs": [],
   "source": []
  },
  {
   "cell_type": "code",
   "execution_count": null,
   "id": "d49a43e0",
   "metadata": {},
   "outputs": [],
   "source": []
  }
 ],
 "metadata": {
  "kernelspec": {
   "display_name": "Python 3 (ipykernel)",
   "language": "python",
   "name": "python3"
  },
  "language_info": {
   "codemirror_mode": {
    "name": "ipython",
    "version": 3
   },
   "file_extension": ".py",
   "mimetype": "text/x-python",
   "name": "python",
   "nbconvert_exporter": "python",
   "pygments_lexer": "ipython3",
   "version": "3.12.4"
  }
 },
 "nbformat": 4,
 "nbformat_minor": 5
}
