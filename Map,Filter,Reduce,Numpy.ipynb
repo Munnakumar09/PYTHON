{
 "cells": [
  {
   "cell_type": "markdown",
   "id": "46303514",
   "metadata": {},
   "source": [
    "## Lambda"
   ]
  },
  {
   "cell_type": "code",
   "execution_count": 1,
   "id": "d96725c7",
   "metadata": {},
   "outputs": [
    {
     "data": {
      "text/plain": [
       "9"
      ]
     },
     "execution_count": 1,
     "metadata": {},
     "output_type": "execute_result"
    }
   ],
   "source": [
    "def sum(a,b):\n",
    "    return a+b\n",
    "\n",
    "sum(4,5)"
   ]
  },
  {
   "cell_type": "code",
   "execution_count": 2,
   "id": "efd16796",
   "metadata": {},
   "outputs": [
    {
     "data": {
      "text/plain": [
       "64"
      ]
     },
     "execution_count": 2,
     "metadata": {},
     "output_type": "execute_result"
    }
   ],
   "source": [
    "def cube(X):\n",
    "    return X*X*X\n",
    "cube(4)"
   ]
  },
  {
   "cell_type": "code",
   "execution_count": 3,
   "id": "259e287f",
   "metadata": {},
   "outputs": [
    {
     "data": {
      "text/plain": [
       "125"
      ]
     },
     "execution_count": 3,
     "metadata": {},
     "output_type": "execute_result"
    }
   ],
   "source": [
    "#Lambda arguments: expression\n",
    "lambda_cube = lambda y: y*y*y\n",
    "lambda_cube(5)"
   ]
  },
  {
   "cell_type": "code",
   "execution_count": 4,
   "id": "1c5520ef",
   "metadata": {},
   "outputs": [
    {
     "data": {
      "text/plain": [
       "9"
      ]
     },
     "execution_count": 4,
     "metadata": {},
     "output_type": "execute_result"
    }
   ],
   "source": [
    "sum = lambda a,b:a+b\n",
    "sum(4,5)"
   ]
  },
  {
   "cell_type": "code",
   "execution_count": 5,
   "id": "c0b91359",
   "metadata": {},
   "outputs": [
    {
     "name": "stdout",
     "output_type": "stream",
     "text": [
      "10\n"
     ]
    }
   ],
   "source": [
    "add = lambda num:num+4\n",
    "print(add(6))"
   ]
  },
  {
   "cell_type": "code",
   "execution_count": 6,
   "id": "b2fd2100",
   "metadata": {},
   "outputs": [
    {
     "data": {
      "text/plain": [
       "5"
      ]
     },
     "execution_count": 6,
     "metadata": {},
     "output_type": "execute_result"
    }
   ],
   "source": [
    "def greater(a,b):\n",
    "    if a>b:\n",
    "        return a\n",
    "    else:\n",
    "        return b\n",
    "greater(4,5)"
   ]
  },
  {
   "cell_type": "code",
   "execution_count": 7,
   "id": "871e0816",
   "metadata": {},
   "outputs": [
    {
     "data": {
      "text/plain": [
       "5"
      ]
     },
     "execution_count": 7,
     "metadata": {},
     "output_type": "execute_result"
    }
   ],
   "source": [
    "#Example of lambda function using if-else\n",
    "max = lambda a,b:a if(a>b) else b\n",
    "max(4,5)"
   ]
  },
  {
   "cell_type": "code",
   "execution_count": 8,
   "id": "7c056d82",
   "metadata": {},
   "outputs": [
    {
     "data": {
      "text/plain": [
       "[25, 49, 4, 64, 36]"
      ]
     },
     "execution_count": 8,
     "metadata": {},
     "output_type": "execute_result"
    }
   ],
   "source": [
    "My_list = [5,7,2,8,6]\n",
    "My_list_squared = []\n",
    "for i in My_list:\n",
    "    i_squared = i**2\n",
    "    My_list_squared.append(i_squared)\n",
    "My_list_squared"
   ]
  },
  {
   "cell_type": "code",
   "execution_count": 9,
   "id": "04901261",
   "metadata": {},
   "outputs": [
    {
     "data": {
      "text/plain": [
       "[25, 49, 4, 64, 36]"
      ]
     },
     "execution_count": 9,
     "metadata": {},
     "output_type": "execute_result"
    }
   ],
   "source": [
    "My_list_squared = [i**2 for i in My_list]\n",
    "My_list_squared"
   ]
  },
  {
   "cell_type": "code",
   "execution_count": 10,
   "id": "788be9f8",
   "metadata": {},
   "outputs": [
    {
     "data": {
      "text/plain": [
       "[25, 49, 4, 64, 36]"
      ]
     },
     "execution_count": 10,
     "metadata": {},
     "output_type": "execute_result"
    }
   ],
   "source": [
    "My_list_squared = list(map(lambda i:i**2,My_list))\n",
    "My_list_squared"
   ]
  },
  {
   "cell_type": "markdown",
   "id": "1b9e9db6",
   "metadata": {},
   "source": [
    "## Map\n",
    "Being a higher-order function, the map function takes another function and an iterable(e.g.,a list,set,tuple) as input, applies the function to the iterable, and returns an output. It's syntax is defined as follows:\n",
    "\n",
    "              map(function, iterable)\n",
    "\n",
    "map(cook, [🐷,🌽,🥚 ,🍠]) → [🥓,🍿,🍳,🍟]"
   ]
  },
  {
   "cell_type": "code",
   "execution_count": 11,
   "id": "a35513e3",
   "metadata": {},
   "outputs": [
    {
     "data": {
      "text/plain": [
       "[8, 10, 11, 12, 13]"
      ]
     },
     "execution_count": 11,
     "metadata": {},
     "output_type": "execute_result"
    }
   ],
   "source": [
    "def add4(x):\n",
    "    return x+4\n",
    "list1 = [4,6,7,8,9]\n",
    "\n",
    "list2 = list(map(add4,list1))\n",
    "list2"
   ]
  },
  {
   "cell_type": "code",
   "execution_count": 12,
   "id": "41905ddb-f60a-4dc7-be6b-11c30495424a",
   "metadata": {},
   "outputs": [
    {
     "data": {
      "text/plain": [
       "[8, 10, 11, 12, 13]"
      ]
     },
     "execution_count": 12,
     "metadata": {},
     "output_type": "execute_result"
    }
   ],
   "source": [
    "list3 = list(map(lambda x:x+4,list1))\n",
    "list3"
   ]
  },
  {
   "cell_type": "code",
   "execution_count": 13,
   "id": "57809bed-5cae-47a4-ae48-9734abd33fb9",
   "metadata": {},
   "outputs": [
    {
     "data": {
      "text/plain": [
       "['abc_2024', 'def_2024', 'xyz_2024']"
      ]
     },
     "execution_count": 13,
     "metadata": {},
     "output_type": "execute_result"
    }
   ],
   "source": [
    "set_of_strings = ['abc' , 'def' , 'xyz']\n",
    "string_map_24 = list(map(lambda my_string: my_string+ '_2024', set_of_strings))\n",
    "string_map_24"
   ]
  },
  {
   "cell_type": "markdown",
   "id": "0662597a-aabe-4b28-8e25-5c51297fd92e",
   "metadata": {},
   "source": [
    "## Filter\n",
    "similar to map(), the filter() higher-order function takes a function and an iterables as output as inputs.The function in case needs to be Boolean nature, returning True/False values corresponding to the filter coditions.As output, it returns a subset of the input data that meets the conditons stipulated by the function.\n",
    "\n",
    "filter(non_vegan, [🥓,🍿,🍳,🍟]) → [🥓,🍳]"
   ]
  },
  {
   "cell_type": "code",
   "execution_count": 14,
   "id": "d9ac25ab-fee2-4cb0-90cc-b7ad06382946",
   "metadata": {},
   "outputs": [
    {
     "data": {
      "text/plain": [
       "[4, 6, 8]"
      ]
     },
     "execution_count": 14,
     "metadata": {},
     "output_type": "execute_result"
    }
   ],
   "source": [
    "def oddeven(x):\n",
    "    if x%2 == 0:\n",
    "        return True\n",
    "    else:\n",
    "        return False\n",
    "\n",
    "list1 = [4,5,6,7,8,9]\n",
    "evenlist = list(filter(oddeven,list1))\n",
    "evenlist"
   ]
  },
  {
   "cell_type": "code",
   "execution_count": 15,
   "id": "217c84e6-a9ff-4db0-8bac-448ee398af0d",
   "metadata": {},
   "outputs": [
    {
     "data": {
      "text/plain": [
       "[4, 6, 8]"
      ]
     },
     "execution_count": 15,
     "metadata": {},
     "output_type": "execute_result"
    }
   ],
   "source": [
    "list1 = [4,5,6,7,8,9]\n",
    "evenlist = list(filter(lambda x:True if x%2==0 else False,list1))\n",
    "evenlist"
   ]
  },
  {
   "cell_type": "markdown",
   "id": "b081d66c-c902-4b76-8ca9-328d4110b294",
   "metadata": {},
   "source": [
    "## Reduce\n",
    "It returns a single value (i.e., it reduces the input to single element). Commonly, this would be some something like the sum of all elements in a list.\n",
    "\n",
    "Example:-\n",
    "\n",
    "reduce(mix, [🥬,🥕,🍅,🥒]) →🥗"
   ]
  },
  {
   "cell_type": "code",
   "execution_count": 16,
   "id": "a1b08513-4db3-44ba-b47c-4ae2db7bbed2",
   "metadata": {},
   "outputs": [
    {
     "data": {
      "text/plain": [
       "30"
      ]
     },
     "execution_count": 16,
     "metadata": {},
     "output_type": "execute_result"
    }
   ],
   "source": [
    "from functools import reduce\n",
    "def sum(x,y):\n",
    "    return x+y\n",
    "\n",
    "list1 = [6,7,8,9]\n",
    "s = reduce(sum,list1)\n",
    "s"
   ]
  },
  {
   "cell_type": "code",
   "execution_count": null,
   "id": "5cfda883-09ec-4a21-b8c7-af35876059ee",
   "metadata": {},
   "outputs": [],
   "source": []
  },
  {
   "cell_type": "code",
   "execution_count": null,
   "id": "d0eb339c",
   "metadata": {},
   "outputs": [],
   "source": []
  },
  {
   "cell_type": "code",
   "execution_count": null,
   "id": "3e670d78",
   "metadata": {},
   "outputs": [],
   "source": []
  }
 ],
 "metadata": {
  "kernelspec": {
   "display_name": "Python 3 (ipykernel)",
   "language": "python",
   "name": "python3"
  },
  "language_info": {
   "codemirror_mode": {
    "name": "ipython",
    "version": 3
   },
   "file_extension": ".py",
   "mimetype": "text/x-python",
   "name": "python",
   "nbconvert_exporter": "python",
   "pygments_lexer": "ipython3",
   "version": "3.12.4"
  }
 },
 "nbformat": 4,
 "nbformat_minor": 5
}
