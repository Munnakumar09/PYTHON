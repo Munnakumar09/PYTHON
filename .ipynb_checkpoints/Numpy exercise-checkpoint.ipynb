{
 "cells": [
  {
   "cell_type": "markdown",
   "id": "ccf165d3-fa58-42cb-b439-e02f3465520e",
   "metadata": {},
   "source": [
    "## Lee decides to walk 10000 steps every day to combat the effect that lockdown has had on his body's agility,mobility,flexibility and strength.Consider the following data from fitness tracker over a period of 10 days"
   ]
  },
  {
   "cell_type": "raw",
   "id": "088f9045-886a-4e44-8ade-811a46147f13",
   "metadata": {},
   "source": [
    "                                              Day number         steps walked\n",
    "                                             _________________________________\n",
    "                                                  1                 6012\n",
    "                                                  2                 7079\n",
    "                                                  3                 6886\n",
    "                                                  4                 7230\n",
    "                                                  5                 4598\n",
    "                                                  6                 5564\n",
    "                                                  7                 6971\n",
    "                                                  8                 7763\n",
    "                                                  9                 8032\n",
    "                                                 10                 9569"
   ]
  },
  {
   "cell_type": "markdown",
   "id": "cfcd93d4-1c01-47bd-aed1-29447ee43e37",
   "metadata": {},
   "source": [
    "## Represent the above data in a 10x2 array.In each row,the first element should contain day number and second element should contain steps walked"
   ]
  },
  {
   "cell_type": "code",
   "execution_count": 24,
   "id": "998cf83c-1a91-4682-b8c3-a10e49726e73",
   "metadata": {},
   "outputs": [
    {
     "data": {
      "text/plain": [
       "array([[   1, 6012],\n",
       "       [   2, 7079],\n",
       "       [   3, 6886],\n",
       "       [   4, 7230],\n",
       "       [   5, 4598],\n",
       "       [   6, 5564],\n",
       "       [   7, 6971],\n",
       "       [   8, 7763],\n",
       "       [   9, 8032],\n",
       "       [  10, 9569]])"
      ]
     },
     "execution_count": 24,
     "metadata": {},
     "output_type": "execute_result"
    }
   ],
   "source": [
    "import numpy as np\n",
    "#Creating a 2D array\n",
    "Day_number = np.arange(1,11)\n",
    "Steps_walked = [6012,7079,6886,7230,4598,5564,6971,7763,8032,9569]\n",
    "arr = np.array([Day_number,Steps_walked])\n",
    "arr = arr.T\n",
    "arr"
   ]
  },
  {
   "cell_type": "markdown",
   "id": "e406ddd0-ba32-4e69-8d0a-1cde06407cbf",
   "metadata": {},
   "source": [
    "## Lee notices that the tracker's battery dies every day at 7 pm.Lee discovers that on an average,he walks 2000 steps every day after 7 pm.Perform an appropriate operation on array to add 2000 steps to all the observations."
   ]
  },
  {
   "cell_type": "code",
   "execution_count": 27,
   "id": "f695f1f6-0f98-4e3e-92c7-b397b77cdcfc",
   "metadata": {},
   "outputs": [
    {
     "data": {
      "text/plain": [
       "array([[    1,  8012],\n",
       "       [    2,  9079],\n",
       "       [    3,  8886],\n",
       "       [    4,  9230],\n",
       "       [    5,  6598],\n",
       "       [    6,  7564],\n",
       "       [    7,  8971],\n",
       "       [    8,  9763],\n",
       "       [    9, 10032],\n",
       "       [   10, 11569]])"
      ]
     },
     "execution_count": 27,
     "metadata": {},
     "output_type": "execute_result"
    }
   ],
   "source": [
    "new_arr = arr[:,1] + 2000\n",
    "arr[:,1] = new_arr\n",
    "arr"
   ]
  },
  {
   "cell_type": "markdown",
   "id": "83dd82c9-1640-42d4-b812-55979d1dd3cf",
   "metadata": {},
   "source": [
    "## Write a program that returns the steps walked, if the steps walked are more than 9000."
   ]
  },
  {
   "cell_type": "code",
   "execution_count": 30,
   "id": "5b0ed6b8-73c2-4f18-b5a0-e6504dd239e2",
   "metadata": {},
   "outputs": [
    {
     "data": {
      "text/plain": [
       "array([[    2,  9079],\n",
       "       [    4,  9230],\n",
       "       [    8,  9763],\n",
       "       [    9, 10032],\n",
       "       [   10, 11569]])"
      ]
     },
     "execution_count": 30,
     "metadata": {},
     "output_type": "execute_result"
    }
   ],
   "source": [
    "matched = arr[:,1] > 9000\n",
    "matched\n",
    "new_arr = arr[matched]\n",
    "new_arr"
   ]
  },
  {
   "cell_type": "markdown",
   "id": "a0e4b820-788d-4da9-b1e1-6bbd184c8ab8",
   "metadata": {},
   "source": [
    "## Print an array containing steps walked in sorted order."
   ]
  },
  {
   "cell_type": "code",
   "execution_count": 33,
   "id": "6e76a2f4-9125-4477-aea0-a50a0db2f63d",
   "metadata": {},
   "outputs": [
    {
     "name": "stdout",
     "output_type": "stream",
     "text": [
      "Sorted 2D Numpy Array\n",
      "[[    5  6598]\n",
      " [    6  7564]\n",
      " [    1  8012]\n",
      " [    3  8886]\n",
      " [    7  8971]\n",
      " [    2  9079]\n",
      " [    4  9230]\n",
      " [    8  9763]\n",
      " [    9 10032]\n",
      " [   10 11569]]\n"
     ]
    }
   ],
   "source": [
    "sortedArr = arr[arr[:,1].argsort()]\n",
    "print('Sorted 2D Numpy Array')\n",
    "print(sortedArr)"
   ]
  },
  {
   "cell_type": "code",
   "execution_count": null,
   "id": "9527fa5a-8042-45a3-941b-7a7c07f93c75",
   "metadata": {},
   "outputs": [],
   "source": []
  }
 ],
 "metadata": {
  "kernelspec": {
   "display_name": "Python 3 (ipykernel)",
   "language": "python",
   "name": "python3"
  },
  "language_info": {
   "codemirror_mode": {
    "name": "ipython",
    "version": 3
   },
   "file_extension": ".py",
   "mimetype": "text/x-python",
   "name": "python",
   "nbconvert_exporter": "python",
   "pygments_lexer": "ipython3",
   "version": "3.12.4"
  }
 },
 "nbformat": 4,
 "nbformat_minor": 5
}
